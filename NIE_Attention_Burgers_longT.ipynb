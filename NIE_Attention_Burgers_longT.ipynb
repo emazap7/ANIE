{
 "cells": [
  {
   "cell_type": "code",
   "execution_count": null,
   "id": "adcd9c69",
   "metadata": {},
   "outputs": [],
   "source": [
    "#General libraries\n",
    "import os, argparse\n",
    "import pickle\n",
    "#from sklearn.decomposition import PCA\n",
    "import numpy as np\n",
    "\n",
    "#Torch libraries\n",
    "import torch \n",
    "from torch import nn\n",
    "\n",
    "#Custom libraries\n",
    "#from load_datasets import load_dataset, create_dataloaders\n",
    "from utils import Train_val_split, Dynamics_Dataset, Test_Dynamics_Dataset\n",
    "from utils import fix_random_seeds,to_np\n",
    "#from source.ide_func import NNIDEF, NeuralIDE\n",
    "#from IE_source.solver import IESolver_monoidal\n",
    "import IE_source.kernels as kernels\n",
    "from IE_source.experiments import Full_experiment_AttentionalIE_PDE\n",
    "from torch.utils.data import SubsetRandomSampler\n",
    "from IE_source.kernels import model_blocks\n",
    "\n",
    "from IE_source.Attentional_IE_solver import masking_function, Integral_attention_solver\n",
    "\n",
    "if torch.cuda.is_available():  \n",
    "    device = \"cuda:0\" \n",
    "else:  \n",
    "    device = \"cpu\"\n",
    "    \n",
    "\n",
    "parser = argparse.ArgumentParser(description='Neural IE')\n",
    "parser.add_argument('-root_path', metavar='DIR', default='',\n",
    "                    help='path to dataset')\n",
    "parser.add_argument('-dataset-name', default='stl10',\n",
    "                    help='dataset name', choices=['acrobot_dataset'])\n",
    "\n",
    "parser.add_argument('-j', '--workers', default=12, type=int, metavar='N',\n",
    "                    help='number of data loading workers (default: 32)')\n",
    "parser.add_argument('--epochs', default=3000, type=int, metavar='N',\n",
    "                    help='number of total epochs to run')\n",
    "parser.add_argument('-b', '--batch_size', default=20, type=int,\n",
    "                    metavar='N',\n",
    "                    help='mini-batch size (default: 256), this is the total '\n",
    "                         'batch size of all GPUs on the current node when '\n",
    "                         'using Data Parallel or Distributed Data Parallel')\n",
    "parser.add_argument('--lr', '--learning-rate', default=1e-4, type=float,\n",
    "                    metavar='LR', help='initial learning rate', dest='lr')\n",
    "parser.add_argument('--wd', '--weight-decay', default=1e-4, type=float,\n",
    "                    metavar='W', help='weight decay (default: 1e-4)',\n",
    "                    dest='weight_decay')\n",
    "parser.add_argument('--seed', default=None, type=int,\n",
    "                    help='seed for initializing training. ')\n",
    "parser.add_argument('--disable-cuda', action='store_true',\n",
    "                    help='Disable CUDA')\n",
    "parser.add_argument('--fp16-precision', action='store_true',\n",
    "                    help='Whether or not to use 16-bit precision GPU training.')\n",
    "\n",
    "parser.add_argument('--out_dim', default=128, type=int,\n",
    "                    help='feature dimension (default: 128)')\n",
    "parser.add_argument('--log-every-n-steps', default=100, type=int,\n",
    "                    help='Log every n steps')\n",
    "parser.add_argument('--temperature', default=0.07, type=float,\n",
    "                    help='softmax temperature (default: 0.07)')\n",
    "parser.add_argument('--n-views', default=2, type=int, metavar='N',\n",
    "                    help='Number of views for contrastive learning training.')\n",
    "parser.add_argument('--gpu-index', default=0, type=int, help='Gpu index.')\n",
    "parser.add_argument('--model', default='simclr', choices=['simclr','lipschitz_simclr','vae','gan'], \n",
    "                    help='Models to be used')\n",
    "parser.add_argument('--mode', default='train', choices=['train','evaluate'], \n",
    "                    help='Set to ''evaluate'' if inference is desired')\n",
    "parser.add_argument('--training_split', default=0.25,type=float, \n",
    "                    help='Fraction of the samples that will be used for validation')\n",
    "parser.add_argument('--resume_from_checkpoint', default=None, \n",
    "                    help='Give string to run number. Ex: \"run12\"')\n",
    "parser.add_argument('--plot_freq', default=1, type=int,help='')\n",
    "parser.add_argument('--experiment_name', default=None,help='')\n"
   ]
  },
  {
   "cell_type": "code",
   "execution_count": null,
   "id": "c42f81ab",
   "metadata": {},
   "outputs": [],
   "source": [
    "args = parser.parse_args(\"\")\n",
    "args.model='nie'\n",
    "args.mode='train'\n",
    "args.mode = 'evaluate'\n",
    "args.dataset_name = 'integral_equations'\n",
    "args.seed = 7\n",
    "args.experiment_name = 'Burgers_test-longT-4'\n",
    "args.plot_freq = 10\n",
    "args.device = device\n",
    "args.num_dim_plot = 2\n",
    "args.lr = 1e-3\n",
    "args.min_lr=1e-7\n",
    "args.T_max = 51\n",
    "args.plat_patience = 10\n",
    "args.factor = 0.5\n",
    "args.lr_scheduler = 'CosineAnnealingLR'\n",
    "args.resume_from_checkpoint = 'run36'\n",
    "fix_random_seeds(args.seed)\n",
    "args.perturbation_to_obs0=None\n",
    "args.training_split=0.2\n",
    "args.smoothing_factor=.5"
   ]
  },
  {
   "cell_type": "code",
   "execution_count": null,
   "id": "4e4f0a79",
   "metadata": {},
   "outputs": [],
   "source": [
    "args.kernel_split = True\n",
    "args.free_func_nn = False\n",
    "args.kernel_type_nn = True\n",
    "args.G_NN = True\n",
    "args.num_internal_points = 100 \n",
    "args.plot_F_func = False\n",
    "args.f_nn = False\n",
    "args.max_iterations=3\n",
    "args.sampling_points=100 \n",
    "args.time_points=2  \n",
    "args.support_tensors=False\n",
    "args.support_test=False\n",
    "args.test_points=50\n",
    "args.combine_points=False\n",
    "args.fourier_transform = False\n",
    "args.linear_decoder = False\n",
    "args.plot_as_image = True\n",
    "args.plot_eval = False"
   ]
  },
  {
   "cell_type": "code",
   "execution_count": null,
   "id": "f153cded",
   "metadata": {},
   "outputs": [],
   "source": []
  },
  {
   "cell_type": "code",
   "execution_count": null,
   "id": "4dc59100",
   "metadata": {},
   "outputs": [],
   "source": [
    "args.n_batch=32"
   ]
  },
  {
   "cell_type": "code",
   "execution_count": null,
   "id": "9e5195c0",
   "metadata": {},
   "outputs": [],
   "source": [
    "args.dim = 4\n",
    "args.dim_emb=8\n",
    "args.n_head=4\n",
    "args.n_blocks=6\n",
    "args.n_ff=64\n",
    "args.attention_type='galerkin'\n",
    "args.final_block=False"
   ]
  },
  {
   "cell_type": "code",
   "execution_count": null,
   "id": "1f6534d7",
   "metadata": {},
   "outputs": [],
   "source": [
    "import matplotlib.pyplot as plt"
   ]
  },
  {
   "cell_type": "code",
   "execution_count": null,
   "id": "087195f6",
   "metadata": {},
   "outputs": [],
   "source": []
  },
  {
   "cell_type": "code",
   "execution_count": null,
   "id": "75727d55",
   "metadata": {},
   "outputs": [],
   "source": []
  },
  {
   "cell_type": "code",
   "execution_count": null,
   "id": "c24b140e",
   "metadata": {},
   "outputs": [],
   "source": [
    "import scipy.io as spio"
   ]
  },
  {
   "cell_type": "code",
   "execution_count": null,
   "id": "09474659",
   "metadata": {},
   "outputs": [],
   "source": [
    "import mat73"
   ]
  },
  {
   "cell_type": "markdown",
   "id": "b3b61bfa",
   "metadata": {},
   "source": [
    "# Burgers dataset has shape explained in https://github.com/zongyi-li/fourier_neural_operator. 1k samples for grid with size of 8192."
   ]
  },
  {
   "cell_type": "markdown",
   "id": "197f47cb",
   "metadata": {},
   "source": [
    "# Navier-Stokes dataset same link as above"
   ]
  },
  {
   "cell_type": "code",
   "execution_count": null,
   "id": "f084f44d",
   "metadata": {},
   "outputs": [],
   "source": [
    "Eqn_type = 'Burgers'\n",
    "burgers_t=25\n",
    "args.burgers_t=burgers_t\n"
   ]
  },
  {
   "cell_type": "code",
   "execution_count": null,
   "id": "45f78e17",
   "metadata": {},
   "outputs": [],
   "source": []
  },
  {
   "cell_type": "code",
   "execution_count": null,
   "id": "639afc89",
   "metadata": {},
   "outputs": [],
   "source": [
    "if Eqn_type == 'Burgers':\n",
    "    if args.mode=='train':\n",
    "        Data = torch.load('Burgers_1k_t400')\n",
    "    else:\n",
    "        print('loading test set')\n",
    "        Data = torch.load('Burgers_Data_N200_t400')\n",
    "else:\n",
    "    Data = mat73.loadmat('Navier-Stokes_V1e-3_N5000_T50.mat')\n"
   ]
  },
  {
   "cell_type": "code",
   "execution_count": null,
   "id": "89ef6815",
   "metadata": {
    "scrolled": true
   },
   "outputs": [],
   "source": [
    "Data"
   ]
  },
  {
   "cell_type": "code",
   "execution_count": null,
   "id": "d4d8ee89",
   "metadata": {},
   "outputs": [],
   "source": [
    "if Eqn_type == 'Navier-Stokes' or burgers_t==2:\n",
    "    Data['a'].shape"
   ]
  },
  {
   "cell_type": "code",
   "execution_count": null,
   "id": "0c3b6cb9",
   "metadata": {},
   "outputs": [],
   "source": [
    "if Eqn_type == 'Burgers' and burgers_t==2:\n",
    "    Data['a_smooth'].shape"
   ]
  },
  {
   "cell_type": "code",
   "execution_count": null,
   "id": "84a90a64",
   "metadata": {},
   "outputs": [],
   "source": [
    "if Eqn_type == 'Burgers' and burgers_t==2:\n",
    "    Data['a_smooth_x'].shape"
   ]
  },
  {
   "cell_type": "code",
   "execution_count": null,
   "id": "cf34c323",
   "metadata": {},
   "outputs": [],
   "source": [
    "if Eqn_type == 'Navier-Stokes' or burgers_t==2:\n",
    "    Data['u'].shape"
   ]
  },
  {
   "cell_type": "code",
   "execution_count": null,
   "id": "c1b183a6",
   "metadata": {},
   "outputs": [],
   "source": [
    "if Eqn_type == 'Burgers' and burgers_t>2:\n",
    "     Data.shape"
   ]
  },
  {
   "cell_type": "code",
   "execution_count": null,
   "id": "997a2f13",
   "metadata": {},
   "outputs": [],
   "source": []
  },
  {
   "cell_type": "code",
   "execution_count": null,
   "id": "1f874958",
   "metadata": {},
   "outputs": [],
   "source": [
    "if Eqn_type == 'Navier-Stokes' or burgers_t==2:\n",
    "    Data_u = torch.from_numpy(Data['u'])"
   ]
  },
  {
   "cell_type": "code",
   "execution_count": null,
   "id": "a9c81761",
   "metadata": {},
   "outputs": [],
   "source": [
    "if Eqn_type == 'Navier-Stokes' or burgers_t==2:\n",
    "    Data_a = torch.from_numpy(Data['a'])"
   ]
  },
  {
   "cell_type": "code",
   "execution_count": null,
   "id": "4c686e28",
   "metadata": {},
   "outputs": [],
   "source": []
  },
  {
   "cell_type": "code",
   "execution_count": null,
   "id": "93a18e93",
   "metadata": {},
   "outputs": [],
   "source": [
    "if Eqn_type == 'Navier-Stokes' or burgers_t==2:\n",
    "    Data_u.shape"
   ]
  },
  {
   "cell_type": "code",
   "execution_count": null,
   "id": "d9e6c168",
   "metadata": {},
   "outputs": [],
   "source": [
    "if Eqn_type == 'Navier-Stokes' or burgers_t==2:\n",
    "    Data_a.shape"
   ]
  },
  {
   "cell_type": "code",
   "execution_count": null,
   "id": "cf1fe794",
   "metadata": {},
   "outputs": [],
   "source": [
    "if Eqn_type == 'Burgers' and burgers_t>2:\n",
    "    Data.shape"
   ]
  },
  {
   "cell_type": "code",
   "execution_count": null,
   "id": "10e9f933",
   "metadata": {},
   "outputs": [],
   "source": []
  },
  {
   "cell_type": "code",
   "execution_count": null,
   "id": "155a5320",
   "metadata": {},
   "outputs": [],
   "source": []
  },
  {
   "cell_type": "code",
   "execution_count": null,
   "id": "e74c7434",
   "metadata": {},
   "outputs": [],
   "source": []
  },
  {
   "cell_type": "code",
   "execution_count": null,
   "id": "57f11b1d",
   "metadata": {},
   "outputs": [],
   "source": [
    "t_max = 1 \n",
    "t_min = 0\n",
    "n_points = 512\n",
    "\n",
    "index_np = np.arange(0, n_points, 1, dtype=int)\n",
    "index_np = np.hstack(index_np[:, None])\n",
    "times_np = np.linspace(t_min, t_max, num=n_points)\n",
    "times_np = np.hstack([times_np[:, None]])\n",
    "\n",
    "###########################################################\n",
    "times = torch.from_numpy(times_np[:, :, None]).to(device)\n",
    "times = times.flatten().float()\n",
    "###########################################################\n",
    "args.time_interval=t_min, t_max"
   ]
  },
  {
   "cell_type": "code",
   "execution_count": null,
   "id": "ab71088f",
   "metadata": {},
   "outputs": [],
   "source": []
  },
  {
   "cell_type": "code",
   "execution_count": null,
   "id": "bcf3c7e7",
   "metadata": {},
   "outputs": [],
   "source": []
  },
  {
   "cell_type": "code",
   "execution_count": null,
   "id": "9ac34c49",
   "metadata": {},
   "outputs": [],
   "source": []
  },
  {
   "cell_type": "code",
   "execution_count": null,
   "id": "291e1351",
   "metadata": {},
   "outputs": [],
   "source": []
  },
  {
   "cell_type": "code",
   "execution_count": null,
   "id": "a4926a85",
   "metadata": {},
   "outputs": [],
   "source": []
  },
  {
   "cell_type": "code",
   "execution_count": null,
   "id": "f52f650a",
   "metadata": {},
   "outputs": [],
   "source": [
    "#Plot some of the data to visualize it\n",
    "if Eqn_type == 'Burgers' and burgers_t==2:\n",
    "    for i in range(10):\n",
    "        plt.plot(torch.linspace(0,1,8192),Data_a[i,:])\n",
    "        plt.plot(torch.linspace(0,1,8192),Data_u[i,:])\n",
    "elif Eqn_type == 'Burgers' and burgers_t>2:\n",
    "    for i in range(5):\n",
    "        plt.plot(torch.linspace(0,1,Data.shape[1]),Data[i,:,1])\n",
    "        plt.plot(torch.linspace(0,1,Data.shape[1]),Data[i,:,-1])\n",
    "else:\n",
    "    for i in range(10):\n",
    "        plt.plot(torch.linspace(0,1,50),Data_u[i,17,17,:])"
   ]
  },
  {
   "cell_type": "code",
   "execution_count": null,
   "id": "2338c252",
   "metadata": {},
   "outputs": [],
   "source": [
    "from torchcubicspline import(natural_cubic_spline_coeffs, \n",
    "                             NaturalCubicSpline)"
   ]
  },
  {
   "cell_type": "code",
   "execution_count": null,
   "id": "c1ccfef0",
   "metadata": {},
   "outputs": [],
   "source": [
    "#visualize few times\n",
    "if Eqn_type == 'Burgers' and burgers_t>2:\n",
    "    for i in range(1,100,10):\n",
    "        #plt.figure(i)\n",
    "        plt.plot(torch.linspace(0,1,Data.shape[1]),Data[0,:,i],label='Data'+str(i))\n",
    "        #plt.legend()"
   ]
  },
  {
   "cell_type": "code",
   "execution_count": null,
   "id": "20baf4d3",
   "metadata": {},
   "outputs": [],
   "source": [
    "Data.shape"
   ]
  },
  {
   "cell_type": "code",
   "execution_count": null,
   "id": "0add6ae0",
   "metadata": {},
   "outputs": [],
   "source": [
    "if burgers_t>2:\n",
    "    Data = Data[:,:,:400]"
   ]
  },
  {
   "cell_type": "code",
   "execution_count": null,
   "id": "23107662",
   "metadata": {},
   "outputs": [],
   "source": []
  },
  {
   "cell_type": "code",
   "execution_count": null,
   "id": "9af5c317",
   "metadata": {},
   "outputs": [],
   "source": []
  },
  {
   "cell_type": "code",
   "execution_count": null,
   "id": "59639310",
   "metadata": {},
   "outputs": [],
   "source": []
  },
  {
   "cell_type": "code",
   "execution_count": null,
   "id": "02474c4d",
   "metadata": {},
   "outputs": [],
   "source": [
    "if Eqn_type == 'Burgers' and burgers_t==2:\n",
    "    for i in range(1024):\n",
    "        Data_i0 = Data_a[i:i+1,:].unsqueeze(-1)\n",
    "        Data_i1 = Data_u[i:i+1,:].unsqueeze(-1)\n",
    "        if i == 0:\n",
    "            Data = torch.cat([Data_i0,Data_i1],-1)\n",
    "        else:\n",
    "            Data = torch.cat([Data,torch.cat([Data_i0,Data_i1],-1)])\n",
    "        \n",
    "    \n",
    "elif Eqn_type == 'Burgers' and burgers_t>2:\n",
    "    pass\n",
    "else:\n",
    "    Data = Data_u[:10,:,:,:]"
   ]
  },
  {
   "cell_type": "code",
   "execution_count": null,
   "id": "e5ae912d",
   "metadata": {},
   "outputs": [],
   "source": [
    "Data.shape"
   ]
  },
  {
   "cell_type": "code",
   "execution_count": null,
   "id": "3d4ea0ac",
   "metadata": {},
   "outputs": [],
   "source": []
  },
  {
   "cell_type": "code",
   "execution_count": null,
   "id": "0f5705c7",
   "metadata": {},
   "outputs": [],
   "source": []
  },
  {
   "cell_type": "code",
   "execution_count": null,
   "id": "c2351369",
   "metadata": {},
   "outputs": [],
   "source": []
  },
  {
   "cell_type": "code",
   "execution_count": null,
   "id": "fe5953e7",
   "metadata": {},
   "outputs": [],
   "source": [
    "Data = Data.to(device)"
   ]
  },
  {
   "cell_type": "code",
   "execution_count": null,
   "id": "f571fe71",
   "metadata": {
    "scrolled": true
   },
   "outputs": [],
   "source": [
    "Data = Data.float()"
   ]
  },
  {
   "cell_type": "code",
   "execution_count": null,
   "id": "5d8d7bc5",
   "metadata": {},
   "outputs": [],
   "source": []
  },
  {
   "cell_type": "code",
   "execution_count": null,
   "id": "5e03eca7",
   "metadata": {},
   "outputs": [],
   "source": [
    "ids = np.tile(np.linspace(0,Data.shape[1]-1,num=n_points, dtype=np.int64),(Data.shape[1],1))"
   ]
  },
  {
   "cell_type": "code",
   "execution_count": null,
   "id": "6c1d231a",
   "metadata": {
    "scrolled": true
   },
   "outputs": [],
   "source": [
    "ids[0]"
   ]
  },
  {
   "cell_type": "code",
   "execution_count": null,
   "id": "88545725",
   "metadata": {},
   "outputs": [],
   "source": [
    "if args.mode=='train': \n",
    "    if burgers_t>2:\n",
    "        t_ids = np.tile(np.linspace(1,Data.shape[-1]-1,num=burgers_t, dtype=np.int64),(Data.shape[1],1))\n",
    "        print(t_ids[0])\n",
    "else:\n",
    "    t_ids = np.tile(np.linspace(1,int(Data.shape[-1]/4),num=burgers_t, dtype=np.int64),(Data.shape[1],1))\n",
    "    print(t_ids[0])"
   ]
  },
  {
   "cell_type": "code",
   "execution_count": null,
   "id": "f806ae26",
   "metadata": {},
   "outputs": [],
   "source": [
    "Data = Data[:,ids[0],:]"
   ]
  },
  {
   "cell_type": "code",
   "execution_count": null,
   "id": "da81cb84",
   "metadata": {},
   "outputs": [],
   "source": [
    "Data.shape"
   ]
  },
  {
   "cell_type": "code",
   "execution_count": null,
   "id": "4c5a82ea",
   "metadata": {},
   "outputs": [],
   "source": [
    "if burgers_t>2:\n",
    "    Data = Data[:,:,t_ids[0]]"
   ]
  },
  {
   "cell_type": "code",
   "execution_count": null,
   "id": "874cb67e",
   "metadata": {},
   "outputs": [],
   "source": [
    "Data.shape"
   ]
  },
  {
   "cell_type": "code",
   "execution_count": null,
   "id": "b3681c6b",
   "metadata": {},
   "outputs": [],
   "source": [
    "if burgers_t>2:\n",
    "    args.time_points=burgers_t"
   ]
  },
  {
   "cell_type": "code",
   "execution_count": null,
   "id": "ebb6b6fa",
   "metadata": {},
   "outputs": [],
   "source": [
    "Data.shape"
   ]
  },
  {
   "cell_type": "code",
   "execution_count": null,
   "id": "7e644861",
   "metadata": {},
   "outputs": [],
   "source": [
    "ts_integration = torch.linspace(0,1,400)[t_ids[0]]\n",
    "print(ts_integration)\n",
    "args.ts_integration = ts_integration"
   ]
  },
  {
   "cell_type": "code",
   "execution_count": null,
   "id": "365de53e",
   "metadata": {},
   "outputs": [],
   "source": []
  },
  {
   "cell_type": "code",
   "execution_count": null,
   "id": "c2faae45",
   "metadata": {},
   "outputs": [],
   "source": []
  },
  {
   "cell_type": "code",
   "execution_count": null,
   "id": "414330eb",
   "metadata": {},
   "outputs": [],
   "source": []
  },
  {
   "cell_type": "code",
   "execution_count": null,
   "id": "fd86aa44",
   "metadata": {},
   "outputs": [],
   "source": [
    "\n",
    "n_steps = 5000\n",
    "print('Data.shape: ',Data.shape)\n",
    "\n",
    "Data_splitting_indices = Train_val_split(np.copy(index_np),0)\n",
    "Train_Data_indices = Data_splitting_indices.train_IDs()\n",
    "Val_Data_indices = Data_splitting_indices.val_IDs()\n",
    "print('\\nlen(Train_Data_indices): ',len(Train_Data_indices))\n",
    "print('Train_Data_indices: ',Train_Data_indices)\n",
    "print('\\nlen(Val_Data_indices): ',len(Val_Data_indices))\n",
    "print('Val_Data_indices: ',Val_Data_indices)\n",
    "Dataset = Dynamics_Dataset(Data,times)\n",
    "\n",
    "Dataset_all = Test_Dynamics_Dataset(Data,times)\n",
    "\n",
    "# For the sampler\n",
    "train_sampler = SubsetRandomSampler(Train_Data_indices)\n",
    "valid_sampler = SubsetRandomSampler(Val_Data_indices)\n",
    "    \n",
    "\n",
    "dataloaders = {'train': torch.utils.data.DataLoader(Dataset, sampler=train_sampler, batch_size = args.batch_size, drop_last=True),\n",
    "               'val': torch.utils.data.DataLoader(Dataset, sampler=valid_sampler, batch_size = args.batch_size, drop_last=True),\n",
    "               'test': torch.utils.data.DataLoader(Dataset_all, batch_size = len(np.copy(index_np))),\n",
    "              }\n",
    "\n",
    "model = model_blocks(args.dim+1,\n",
    "                     args.dim_emb,\n",
    "                     args.n_head,\n",
    "                     args.n_blocks,\n",
    "                     args.n_ff,\n",
    "                     args.attention_type,\n",
    "                     args.final_block,\n",
    "                     dropout=0.3)\n",
    "\n",
    "if torch.cuda.is_available():\n",
    "    model = model.cuda()"
   ]
  },
  {
   "cell_type": "code",
   "execution_count": null,
   "id": "40a1fc7e",
   "metadata": {},
   "outputs": [],
   "source": []
  },
  {
   "cell_type": "code",
   "execution_count": null,
   "id": "4e5471ba",
   "metadata": {},
   "outputs": [],
   "source": [
    "args.range_imshow = np.array([np.quantile(to_np(Data).flatten(), 0.05), np.quantile(to_np(Data).flatten(), 0.95)])"
   ]
  },
  {
   "cell_type": "code",
   "execution_count": null,
   "id": "14d2cff2",
   "metadata": {},
   "outputs": [],
   "source": [
    "args.range_imshow"
   ]
  },
  {
   "cell_type": "code",
   "execution_count": null,
   "id": "20b7aa27",
   "metadata": {},
   "outputs": [],
   "source": []
  },
  {
   "cell_type": "markdown",
   "id": "45ac67a2",
   "metadata": {},
   "source": [
    "Data.size()"
   ]
  },
  {
   "cell_type": "code",
   "execution_count": null,
   "id": "8ec9665d",
   "metadata": {},
   "outputs": [],
   "source": [
    "exp_mode = 'Fredholm'"
   ]
  },
  {
   "cell_type": "code",
   "execution_count": null,
   "id": "b9e4f6e5",
   "metadata": {},
   "outputs": [],
   "source": [
    "#Fredholm mode\n",
    "mask = None"
   ]
  },
  {
   "cell_type": "code",
   "execution_count": null,
   "id": "06c6954d",
   "metadata": {},
   "outputs": [],
   "source": [
    "#Volterra mode\n",
    "if exp_mode == 'Volterra':\n",
    "    masking_map =  masking_function(lambda x: 0.,lambda x: x,n_batch=1)\n",
    "    mask_times = times\n",
    "    mask = masking_map.create_mask(mask_times)"
   ]
  },
  {
   "cell_type": "code",
   "execution_count": null,
   "id": "79e30e32",
   "metadata": {},
   "outputs": [],
   "source": [
    "print(mask)"
   ]
  },
  {
   "cell_type": "code",
   "execution_count": null,
   "id": "0709fcb6",
   "metadata": {},
   "outputs": [],
   "source": []
  },
  {
   "cell_type": "code",
   "execution_count": null,
   "id": "9cfd2d4e",
   "metadata": {},
   "outputs": [],
   "source": [
    "args.n_patch = 64"
   ]
  },
  {
   "cell_type": "code",
   "execution_count": null,
   "id": "5fde9a64",
   "metadata": {},
   "outputs": [],
   "source": []
  },
  {
   "cell_type": "code",
   "execution_count": null,
   "id": "7958efc6",
   "metadata": {},
   "outputs": [],
   "source": [
    "Encoder = kernels.ConvNeuralNet1D(\n",
    "                            1,\n",
    "                            args.dim,\n",
    "                            args.dim,\n",
    "                            hidden_ff=32,\n",
    "                            Data_shape1=512,\n",
    "                            n_patch=args.n_patch\n",
    ").to(args.device)"
   ]
  },
  {
   "cell_type": "code",
   "execution_count": null,
   "id": "d55128ba",
   "metadata": {},
   "outputs": [],
   "source": [
    "args.shapes = Encoder(Data[:4,:,:1].permute(0,2,1)).shape"
   ]
  },
  {
   "cell_type": "code",
   "execution_count": null,
   "id": "609d405b",
   "metadata": {},
   "outputs": [],
   "source": [
    "args.n_points = args.shapes[-1]"
   ]
  },
  {
   "cell_type": "code",
   "execution_count": null,
   "id": "6e68e452",
   "metadata": {},
   "outputs": [],
   "source": []
  },
  {
   "cell_type": "code",
   "execution_count": null,
   "id": "a37c961d",
   "metadata": {},
   "outputs": [],
   "source": []
  },
  {
   "cell_type": "code",
   "execution_count": null,
   "id": "aa38b891",
   "metadata": {},
   "outputs": [],
   "source": [
    "class Decoder_NN(nn.Module):\n",
    "    def __init__(self,in_dim,out_dim,shapes,NL=nn.ELU):\n",
    "        super(Decoder_NN, self).__init__()\n",
    "        self.in_dim = in_dim\n",
    "        self.out_dim = out_dim\n",
    "        self.n_layers = len(shapes) - 1\n",
    "        self.shapes = shapes\n",
    "        self.first = nn.Linear(in_dim,shapes[0])\n",
    "        self.layers = nn.ModuleList([nn.Linear(shapes[i],shapes[i+1]) for i in range(self.n_layers)])\n",
    "        self.last = nn.Linear(shapes[-1], out_dim)\n",
    "        self.NL = NL(inplace=True) \n",
    "        \n",
    "    def forward(self, y):\n",
    "        y_in = y.permute(0,2,1,3)\n",
    "        y_in = y_in.flatten(2,3)\n",
    "        y = self.NL(self.first.forward(y_in))\n",
    "        for layer in self.layers:\n",
    "            y = self.NL(layer.forward(y))   \n",
    "        y_out = self.last.forward(y)\n",
    "        y = y_out.permute(0,2,1)\n",
    "\n",
    "        return y"
   ]
  },
  {
   "cell_type": "code",
   "execution_count": null,
   "id": "7779a679",
   "metadata": {},
   "outputs": [],
   "source": [
    "Decoder = Decoder_NN(args.shapes[-1]*args.dim,n_points,[64,128]).to(args.device)"
   ]
  },
  {
   "cell_type": "code",
   "execution_count": null,
   "id": "6976b47b",
   "metadata": {},
   "outputs": [],
   "source": []
  },
  {
   "cell_type": "code",
   "execution_count": null,
   "id": "4d3e190e",
   "metadata": {},
   "outputs": [],
   "source": []
  },
  {
   "cell_type": "code",
   "execution_count": null,
   "id": "58bad694",
   "metadata": {},
   "outputs": [],
   "source": []
  },
  {
   "cell_type": "code",
   "execution_count": null,
   "id": "5fb156cc",
   "metadata": {},
   "outputs": [],
   "source": [
    "kernels.flatten_kernel_parameters(model).shape[0]+kernels.flatten_kernel_parameters(Encoder).shape[0]+kernels.flatten_kernel_parameters(Decoder).shape[0]\n",
    "\n"
   ]
  },
  {
   "cell_type": "code",
   "execution_count": null,
   "id": "3702a60d",
   "metadata": {},
   "outputs": [],
   "source": []
  },
  {
   "cell_type": "code",
   "execution_count": null,
   "id": "71187a88",
   "metadata": {},
   "outputs": [],
   "source": []
  },
  {
   "cell_type": "code",
   "execution_count": null,
   "id": "07c71c8e",
   "metadata": {},
   "outputs": [],
   "source": [
    "args.epochs=5000"
   ]
  },
  {
   "cell_type": "code",
   "execution_count": null,
   "id": "ca252cf4",
   "metadata": {},
   "outputs": [],
   "source": [
    "args.print_ts=False\n",
    "if args.print_ts is True:\n",
    "    args.freq_print_ts = int(args.epochs/500)*args.plot_freq"
   ]
  },
  {
   "cell_type": "code",
   "execution_count": null,
   "id": "14d17e59",
   "metadata": {
    "scrolled": true
   },
   "outputs": [],
   "source": [
    "Full_experiment_AttentionalIE_PDE(model,Encoder,Decoder,Data, times, index_np, mask, times, args, extrapolation_points=None)"
   ]
  },
  {
   "cell_type": "code",
   "execution_count": null,
   "id": "dcf6687f",
   "metadata": {},
   "outputs": [],
   "source": []
  },
  {
   "cell_type": "code",
   "execution_count": null,
   "id": "5410f754",
   "metadata": {},
   "outputs": [],
   "source": []
  }
 ],
 "metadata": {
  "kernelspec": {
   "display_name": "Python 3 (ipykernel)",
   "language": "python",
   "name": "python3"
  },
  "language_info": {
   "codemirror_mode": {
    "name": "ipython",
    "version": 3
   },
   "file_extension": ".py",
   "mimetype": "text/x-python",
   "name": "python",
   "nbconvert_exporter": "python",
   "pygments_lexer": "ipython3",
   "version": "3.10.8"
  },
  "toc": {
   "base_numbering": 1,
   "nav_menu": {},
   "number_sections": true,
   "sideBar": true,
   "skip_h1_title": false,
   "title_cell": "Table of Contents",
   "title_sidebar": "Contents",
   "toc_cell": false,
   "toc_position": {},
   "toc_section_display": true,
   "toc_window_display": false
  }
 },
 "nbformat": 4,
 "nbformat_minor": 5
}
