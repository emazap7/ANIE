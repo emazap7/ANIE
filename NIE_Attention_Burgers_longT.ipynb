{
 "cells": [
  {
   "cell_type": "code",
   "execution_count": 1,
   "id": "adcd9c69",
   "metadata": {},
   "outputs": [
    {
     "data": {
      "text/plain": [
       "_StoreAction(option_strings=['--experiment_name'], dest='experiment_name', nargs=None, const=None, default=None, type=None, choices=None, required=False, help='', metavar=None)"
      ]
     },
     "execution_count": 1,
     "metadata": {},
     "output_type": "execute_result"
    }
   ],
   "source": [
    "#General libraries\n",
    "import os, argparse\n",
    "import pickle\n",
    "#from sklearn.decomposition import PCA\n",
    "import numpy as np\n",
    "\n",
    "#Torch libraries\n",
    "import torch \n",
    "from torch import nn\n",
    "\n",
    "#Custom libraries\n",
    "#from load_datasets import load_dataset, create_dataloaders\n",
    "from utils import Train_val_split, Dynamics_Dataset, Test_Dynamics_Dataset\n",
    "from utils import fix_random_seeds,to_np\n",
    "#from source.ide_func import NNIDEF, NeuralIDE\n",
    "#from IE_source.solver import IESolver_monoidal\n",
    "import IE_source.kernels as kernels\n",
    "from IE_source.experiments import Full_experiment_AttentionalIE_PDE\n",
    "from torch.utils.data import SubsetRandomSampler\n",
    "from IE_source.kernels import model_blocks\n",
    "\n",
    "from IE_source.Attentional_IE_solver import masking_function, Integral_attention_solver\n",
    "\n",
    "if torch.cuda.is_available():  \n",
    "    device = \"cuda:0\" \n",
    "else:  \n",
    "    device = \"cpu\"\n",
    "    \n",
    "\n",
    "parser = argparse.ArgumentParser(description='Neural IE')\n",
    "parser.add_argument('-root_path', metavar='DIR', default='',\n",
    "                    help='path to dataset')\n",
    "parser.add_argument('-dataset-name', default='stl10',\n",
    "                    help='dataset name', choices=['acrobot_dataset'])\n",
    "\n",
    "parser.add_argument('-j', '--workers', default=12, type=int, metavar='N',\n",
    "                    help='number of data loading workers (default: 32)')\n",
    "parser.add_argument('--epochs', default=3000, type=int, metavar='N',\n",
    "                    help='number of total epochs to run')\n",
    "parser.add_argument('-b', '--batch_size', default=20, type=int,\n",
    "                    metavar='N',\n",
    "                    help='mini-batch size (default: 256), this is the total '\n",
    "                         'batch size of all GPUs on the current node when '\n",
    "                         'using Data Parallel or Distributed Data Parallel')\n",
    "parser.add_argument('--lr', '--learning-rate', default=1e-4, type=float,\n",
    "                    metavar='LR', help='initial learning rate', dest='lr')\n",
    "parser.add_argument('--wd', '--weight-decay', default=1e-4, type=float,\n",
    "                    metavar='W', help='weight decay (default: 1e-4)',\n",
    "                    dest='weight_decay')\n",
    "parser.add_argument('--seed', default=None, type=int,\n",
    "                    help='seed for initializing training. ')\n",
    "parser.add_argument('--disable-cuda', action='store_true',\n",
    "                    help='Disable CUDA')\n",
    "parser.add_argument('--fp16-precision', action='store_true',\n",
    "                    help='Whether or not to use 16-bit precision GPU training.')\n",
    "\n",
    "parser.add_argument('--out_dim', default=128, type=int,\n",
    "                    help='feature dimension (default: 128)')\n",
    "parser.add_argument('--log-every-n-steps', default=100, type=int,\n",
    "                    help='Log every n steps')\n",
    "parser.add_argument('--temperature', default=0.07, type=float,\n",
    "                    help='softmax temperature (default: 0.07)')\n",
    "parser.add_argument('--n-views', default=2, type=int, metavar='N',\n",
    "                    help='Number of views for contrastive learning training.')\n",
    "parser.add_argument('--gpu-index', default=0, type=int, help='Gpu index.')\n",
    "parser.add_argument('--model', default='simclr', choices=['simclr','lipschitz_simclr','vae','gan'], \n",
    "                    help='Models to be used')\n",
    "parser.add_argument('--mode', default='train', choices=['train','evaluate'], \n",
    "                    help='Set to ''evaluate'' if inference is desired')\n",
    "parser.add_argument('--training_split', default=0.25,type=float, \n",
    "                    help='Fraction of the samples that will be used for validation')\n",
    "parser.add_argument('--resume_from_checkpoint', default=None, \n",
    "                    help='Give string to run number. Ex: \"run12\"')\n",
    "parser.add_argument('--plot_freq', default=1, type=int,help='')\n",
    "parser.add_argument('--experiment_name', default=None,help='')\n"
   ]
  },
  {
   "cell_type": "code",
   "execution_count": 2,
   "id": "c42f81ab",
   "metadata": {},
   "outputs": [],
   "source": [
    "'''\n",
    "Use args.mode = 'train' to train the model, and args.mode = 'evaluate' to test it. \n",
    "args.resume_from_checkpoint = 'run#' allows to load a model, either for continue\n",
    "training, or for testing it.\n",
    "'''\n",
    "args = parser.parse_args(\"\")\n",
    "args.model='nie'\n",
    "args.mode='train'\n",
    "#args.mode = 'evaluate'\n",
    "args.dataset_name = 'integral_equations'\n",
    "args.seed = 7\n",
    "args.experiment_name = 'Burgers_test-longT-2'\n",
    "args.plot_freq = 10\n",
    "args.device = device\n",
    "args.num_dim_plot = 2\n",
    "args.lr = 1e-3\n",
    "args.min_lr=1e-7\n",
    "args.T_max = 51\n",
    "args.plat_patience = 10\n",
    "args.factor = 0.5\n",
    "args.lr_scheduler = 'CosineAnnealingLR'\n",
    "#args.resume_from_checkpoint = 'run1'\n",
    "fix_random_seeds(args.seed)\n",
    "args.perturbation_to_obs0=None\n",
    "args.training_split=0.2\n",
    "args.smoothing_factor=.5"
   ]
  },
  {
   "cell_type": "code",
   "execution_count": 3,
   "id": "4e4f0a79",
   "metadata": {},
   "outputs": [],
   "source": [
    "args.kernel_split = True\n",
    "args.free_func_nn = False\n",
    "args.kernel_type_nn = True\n",
    "args.G_NN = True\n",
    "args.num_internal_points = 100 \n",
    "args.plot_F_func = False\n",
    "args.f_nn = False\n",
    "args.max_iterations=3\n",
    "args.sampling_points=100 \n",
    "args.time_points=2  \n",
    "args.support_tensors=True\n",
    "args.support_test=False\n",
    "args.test_points=50\n",
    "args.combine_points=False\n",
    "args.fourier_transform = False\n",
    "args.linear_decoder = False\n",
    "args.plot_as_image = True\n",
    "args.plot_eval = False"
   ]
  },
  {
   "cell_type": "code",
   "execution_count": null,
   "id": "f153cded",
   "metadata": {},
   "outputs": [],
   "source": []
  },
  {
   "cell_type": "code",
   "execution_count": 4,
   "id": "4dc59100",
   "metadata": {},
   "outputs": [],
   "source": [
    "args.n_batch=32"
   ]
  },
  {
   "cell_type": "code",
   "execution_count": 5,
   "id": "9e5195c0",
   "metadata": {},
   "outputs": [],
   "source": [
    "'''\n",
    "Architecture of the transformer used for quadrature of integrals.\n",
    "'''\n",
    "args.dim = 16\n",
    "args.dim_emb=32\n",
    "args.n_head=2\n",
    "args.n_blocks=2\n",
    "args.n_ff=64\n",
    "args.attention_type='galerkin'\n",
    "args.final_block=False"
   ]
  },
  {
   "cell_type": "code",
   "execution_count": 6,
   "id": "1f6534d7",
   "metadata": {},
   "outputs": [],
   "source": [
    "import matplotlib.pyplot as plt"
   ]
  },
  {
   "cell_type": "code",
   "execution_count": null,
   "id": "087195f6",
   "metadata": {},
   "outputs": [],
   "source": []
  },
  {
   "cell_type": "code",
   "execution_count": null,
   "id": "75727d55",
   "metadata": {},
   "outputs": [],
   "source": []
  },
  {
   "cell_type": "code",
   "execution_count": 7,
   "id": "c24b140e",
   "metadata": {},
   "outputs": [],
   "source": [
    "import scipy.io as spio"
   ]
  },
  {
   "cell_type": "code",
   "execution_count": 8,
   "id": "09474659",
   "metadata": {},
   "outputs": [],
   "source": [
    "import mat73"
   ]
  },
  {
   "cell_type": "markdown",
   "id": "b3b61bfa",
   "metadata": {},
   "source": [
    "# Burgers dataset has shape explained in https://github.com/zongyi-li/fourier_neural_operator. 1k samples for grid with size of 8192."
   ]
  },
  {
   "cell_type": "markdown",
   "id": "197f47cb",
   "metadata": {},
   "source": [
    "# Navier-Stokes dataset same link as above"
   ]
  },
  {
   "cell_type": "code",
   "execution_count": 9,
   "id": "f084f44d",
   "metadata": {},
   "outputs": [],
   "source": [
    "'''\n",
    "burgers_t=# gives the number of times points for the dynamics.\n",
    "In the article we tested 10, 15, 25.\n",
    "'''\n",
    "Eqn_type = 'Burgers'\n",
    "burgers_t=25\n",
    "args.burgers_t=burgers_t\n"
   ]
  },
  {
   "cell_type": "code",
   "execution_count": null,
   "id": "45f78e17",
   "metadata": {},
   "outputs": [],
   "source": []
  },
  {
   "cell_type": "code",
   "execution_count": 10,
   "id": "639afc89",
   "metadata": {},
   "outputs": [
    {
     "name": "stdout",
     "output_type": "stream",
     "text": [
      "loading test set\n"
     ]
    }
   ],
   "source": [
    "if Eqn_type == 'Burgers':\n",
    "    if args.mode=='train':\n",
    "        Data = torch.load('Burgers_1k_t400')\n",
    "    else:\n",
    "        print('loading test set')\n",
    "        Data = torch.load('Burgers_Data_N200_t400')\n",
    "else:\n",
    "    Data = mat73.loadmat('Navier-Stokes_V1e-3_N5000_T50.mat')\n"
   ]
  },
  {
   "cell_type": "code",
   "execution_count": 11,
   "id": "89ef6815",
   "metadata": {
    "scrolled": true
   },
   "outputs": [
    {
     "data": {
      "text/plain": [
       "tensor([[[ 0.0000,  0.0104,  0.0103,  ...,  0.0087,  0.0087,  0.0087],\n",
       "         [ 0.0000,  0.0100,  0.0099,  ...,  0.0081,  0.0081,  0.0081],\n",
       "         [ 0.0000,  0.0096,  0.0094,  ...,  0.0075,  0.0075,  0.0075],\n",
       "         ...,\n",
       "         [ 0.0000,  0.0114,  0.0114,  ...,  0.0104,  0.0103,  0.0103],\n",
       "         [ 0.0000,  0.0110,  0.0110,  ...,  0.0098,  0.0098,  0.0098],\n",
       "         [ 0.0000,  0.0107,  0.0107,  ...,  0.0093,  0.0092,  0.0092]],\n",
       "\n",
       "        [[ 0.0000, -0.1633, -0.1637,  ..., -0.1145, -0.1144, -0.1143],\n",
       "         [ 0.0000, -0.1642, -0.1646,  ..., -0.1142, -0.1141, -0.1140],\n",
       "         [ 0.0000, -0.1651, -0.1656,  ..., -0.1138, -0.1138, -0.1137],\n",
       "         ...,\n",
       "         [ 0.0000, -0.1606, -0.1610,  ..., -0.1154, -0.1154, -0.1153],\n",
       "         [ 0.0000, -0.1615, -0.1619,  ..., -0.1151, -0.1150, -0.1149],\n",
       "         [ 0.0000, -0.1624, -0.1628,  ..., -0.1148, -0.1147, -0.1146]],\n",
       "\n",
       "        [[ 0.0000,  0.4229,  0.4203,  ...,  0.1074,  0.1072,  0.1070],\n",
       "         [ 0.0000,  0.4253,  0.4227,  ...,  0.1081,  0.1079,  0.1077],\n",
       "         [ 0.0000,  0.4276,  0.4251,  ...,  0.1088,  0.1086,  0.1084],\n",
       "         ...,\n",
       "         [ 0.0000,  0.4157,  0.4131,  ...,  0.1053,  0.1051,  0.1049],\n",
       "         [ 0.0000,  0.4181,  0.4155,  ...,  0.1060,  0.1058,  0.1056],\n",
       "         [ 0.0000,  0.4205,  0.4179,  ...,  0.1067,  0.1065,  0.1063]],\n",
       "\n",
       "        ...,\n",
       "\n",
       "        [[ 0.0000, -0.3958, -0.3955,  ..., -0.1416, -0.1413, -0.1410],\n",
       "         [ 0.0000, -0.3957, -0.3954,  ..., -0.1408, -0.1406, -0.1403],\n",
       "         [ 0.0000, -0.3956, -0.3952,  ..., -0.1401, -0.1398, -0.1395],\n",
       "         ...,\n",
       "         [ 0.0000, -0.3955, -0.3955,  ..., -0.1439, -0.1436, -0.1433],\n",
       "         [ 0.0000, -0.3957, -0.3956,  ..., -0.1431, -0.1428, -0.1426],\n",
       "         [ 0.0000, -0.3958, -0.3956,  ..., -0.1423, -0.1421, -0.1418]],\n",
       "\n",
       "        [[ 0.0000,  0.4437,  0.4449,  ...,  0.2685,  0.2684,  0.2682],\n",
       "         [ 0.0000,  0.4425,  0.4438,  ...,  0.2687,  0.2685,  0.2684],\n",
       "         [ 0.0000,  0.4413,  0.4426,  ...,  0.2688,  0.2687,  0.2686],\n",
       "         ...,\n",
       "         [ 0.0000,  0.4471,  0.4480,  ...,  0.2680,  0.2679,  0.2677],\n",
       "         [ 0.0000,  0.4460,  0.4471,  ...,  0.2682,  0.2680,  0.2679],\n",
       "         [ 0.0000,  0.4448,  0.4460,  ...,  0.2683,  0.2682,  0.2681]],\n",
       "\n",
       "        [[ 0.0000, -0.4045, -0.3997,  ..., -0.0718, -0.0716, -0.0715],\n",
       "         [ 0.0000, -0.3997, -0.3950,  ..., -0.0710, -0.0708, -0.0707],\n",
       "         [ 0.0000, -0.3950, -0.3904,  ..., -0.0701, -0.0700, -0.0698],\n",
       "         ...,\n",
       "         [ 0.0000, -0.4191, -0.4140,  ..., -0.0742, -0.0741, -0.0739],\n",
       "         [ 0.0000, -0.4142, -0.4092,  ..., -0.0734, -0.0733, -0.0731],\n",
       "         [ 0.0000, -0.4094, -0.4045,  ..., -0.0726, -0.0724, -0.0723]]],\n",
       "       dtype=torch.float64)"
      ]
     },
     "execution_count": 11,
     "metadata": {},
     "output_type": "execute_result"
    }
   ],
   "source": [
    "Data"
   ]
  },
  {
   "cell_type": "code",
   "execution_count": 12,
   "id": "d4d8ee89",
   "metadata": {},
   "outputs": [],
   "source": [
    "if Eqn_type == 'Navier-Stokes' or burgers_t==2:\n",
    "    Data['a'].shape"
   ]
  },
  {
   "cell_type": "code",
   "execution_count": 13,
   "id": "0c3b6cb9",
   "metadata": {},
   "outputs": [],
   "source": [
    "if Eqn_type == 'Burgers' and burgers_t==2:\n",
    "    Data['a_smooth'].shape"
   ]
  },
  {
   "cell_type": "code",
   "execution_count": 14,
   "id": "84a90a64",
   "metadata": {},
   "outputs": [],
   "source": [
    "if Eqn_type == 'Burgers' and burgers_t==2:\n",
    "    Data['a_smooth_x'].shape"
   ]
  },
  {
   "cell_type": "code",
   "execution_count": 15,
   "id": "cf34c323",
   "metadata": {},
   "outputs": [],
   "source": [
    "if Eqn_type == 'Navier-Stokes' or burgers_t==2:\n",
    "    Data['u'].shape"
   ]
  },
  {
   "cell_type": "code",
   "execution_count": 16,
   "id": "c1b183a6",
   "metadata": {},
   "outputs": [],
   "source": [
    "if Eqn_type == 'Burgers' and burgers_t>2:\n",
    "     Data.shape"
   ]
  },
  {
   "cell_type": "code",
   "execution_count": null,
   "id": "997a2f13",
   "metadata": {},
   "outputs": [],
   "source": []
  },
  {
   "cell_type": "code",
   "execution_count": 17,
   "id": "1f874958",
   "metadata": {},
   "outputs": [],
   "source": [
    "if Eqn_type == 'Navier-Stokes' or burgers_t==2:\n",
    "    Data_u = torch.from_numpy(Data['u'])"
   ]
  },
  {
   "cell_type": "code",
   "execution_count": 18,
   "id": "a9c81761",
   "metadata": {},
   "outputs": [],
   "source": [
    "if Eqn_type == 'Navier-Stokes' or burgers_t==2:\n",
    "    Data_a = torch.from_numpy(Data['a'])"
   ]
  },
  {
   "cell_type": "code",
   "execution_count": null,
   "id": "4c686e28",
   "metadata": {},
   "outputs": [],
   "source": []
  },
  {
   "cell_type": "code",
   "execution_count": 19,
   "id": "93a18e93",
   "metadata": {},
   "outputs": [],
   "source": [
    "if Eqn_type == 'Navier-Stokes' or burgers_t==2:\n",
    "    Data_u.shape"
   ]
  },
  {
   "cell_type": "code",
   "execution_count": 20,
   "id": "d9e6c168",
   "metadata": {},
   "outputs": [],
   "source": [
    "if Eqn_type == 'Navier-Stokes' or burgers_t==2:\n",
    "    Data_a.shape"
   ]
  },
  {
   "cell_type": "code",
   "execution_count": 21,
   "id": "cf1fe794",
   "metadata": {},
   "outputs": [],
   "source": [
    "if Eqn_type == 'Burgers' and burgers_t>2:\n",
    "    Data.shape"
   ]
  },
  {
   "cell_type": "code",
   "execution_count": null,
   "id": "10e9f933",
   "metadata": {},
   "outputs": [],
   "source": []
  },
  {
   "cell_type": "code",
   "execution_count": null,
   "id": "155a5320",
   "metadata": {},
   "outputs": [],
   "source": []
  },
  {
   "cell_type": "code",
   "execution_count": null,
   "id": "e74c7434",
   "metadata": {},
   "outputs": [],
   "source": []
  },
  {
   "cell_type": "code",
   "execution_count": 22,
   "id": "57f11b1d",
   "metadata": {},
   "outputs": [],
   "source": [
    "'''\n",
    "n_points=# gives the spatial resolution.\n",
    "In the article we tested 256, 512.\n",
    "'''\n",
    "\n",
    "t_max = 1 \n",
    "t_min = 0\n",
    "n_points = 512\n",
    "\n",
    "index_np = np.arange(0, n_points, 1, dtype=int)\n",
    "index_np = np.hstack(index_np[:, None])\n",
    "times_np = np.linspace(t_min, t_max, num=n_points)\n",
    "times_np = np.hstack([times_np[:, None]])\n",
    "\n",
    "###########################################################\n",
    "times = torch.from_numpy(times_np[:, :, None]).to(device)\n",
    "times = times.flatten().float()\n",
    "###########################################################\n",
    "args.time_interval=t_min, t_max"
   ]
  },
  {
   "cell_type": "code",
   "execution_count": null,
   "id": "ab71088f",
   "metadata": {},
   "outputs": [],
   "source": []
  },
  {
   "cell_type": "code",
   "execution_count": null,
   "id": "bcf3c7e7",
   "metadata": {},
   "outputs": [],
   "source": []
  },
  {
   "cell_type": "code",
   "execution_count": null,
   "id": "9ac34c49",
   "metadata": {},
   "outputs": [],
   "source": []
  },
  {
   "cell_type": "code",
   "execution_count": null,
   "id": "291e1351",
   "metadata": {},
   "outputs": [],
   "source": []
  },
  {
   "cell_type": "code",
   "execution_count": null,
   "id": "a4926a85",
   "metadata": {},
   "outputs": [],
   "source": []
  },
  {
   "cell_type": "code",
   "execution_count": 23,
   "id": "f52f650a",
   "metadata": {},
   "outputs": [
    {
     "data": {
      "image/png": "[encoded data removed]",
      "text/plain": [
       "<Figure size 640x480 with 1 Axes>"
      ]
     },
     "metadata": {},
     "output_type": "display_data"
    }
   ],
   "source": [
    "#Plot some of the data to visualize it\n",
    "if Eqn_type == 'Burgers' and burgers_t==2:\n",
    "    for i in range(10):\n",
    "        plt.plot(torch.linspace(0,1,8192),Data_a[i,:])\n",
    "        plt.plot(torch.linspace(0,1,8192),Data_u[i,:])\n",
    "elif Eqn_type == 'Burgers' and burgers_t>2:\n",
    "    for i in range(5):\n",
    "        plt.plot(torch.linspace(0,1,Data.shape[1]),Data[i,:,1])\n",
    "        plt.plot(torch.linspace(0,1,Data.shape[1]),Data[i,:,-1])\n",
    "else:\n",
    "    for i in range(10):\n",
    "        plt.plot(torch.linspace(0,1,50),Data_u[i,17,17,:])"
   ]
  },
  {
   "cell_type": "code",
   "execution_count": 24,
   "id": "2338c252",
   "metadata": {},
   "outputs": [],
   "source": [
    "from torchcubicspline import(natural_cubic_spline_coeffs, \n",
    "                             NaturalCubicSpline)"
   ]
  },
  {
   "cell_type": "code",
   "execution_count": 25,
   "id": "c1ccfef0",
   "metadata": {},
   "outputs": [
    {
     "data": {
      "image/png": "[encoded data removed]",
      "text/plain": [
       "<Figure size 640x480 with 1 Axes>"
      ]
     },
     "metadata": {},
     "output_type": "display_data"
    }
   ],
   "source": [
    "#visualize few times\n",
    "if Eqn_type == 'Burgers' and burgers_t>2:\n",
    "    for i in range(1,100,10):\n",
    "        #plt.figure(i)\n",
    "        plt.plot(torch.linspace(0,1,Data.shape[1]),Data[0,:,i],label='Data'+str(i))\n",
    "        #plt.legend()"
   ]
  },
  {
   "cell_type": "code",
   "execution_count": 26,
   "id": "20baf4d3",
   "metadata": {},
   "outputs": [
    {
     "data": {
      "text/plain": [
       "torch.Size([200, 1024, 401])"
      ]
     },
     "execution_count": 26,
     "metadata": {},
     "output_type": "execute_result"
    }
   ],
   "source": [
    "Data.shape"
   ]
  },
  {
   "cell_type": "code",
   "execution_count": 27,
   "id": "0add6ae0",
   "metadata": {},
   "outputs": [],
   "source": [
    "if burgers_t>2:\n",
    "    Data = Data[:,:,:400]"
   ]
  },
  {
   "cell_type": "code",
   "execution_count": null,
   "id": "23107662",
   "metadata": {},
   "outputs": [],
   "source": []
  },
  {
   "cell_type": "code",
   "execution_count": null,
   "id": "9af5c317",
   "metadata": {},
   "outputs": [],
   "source": []
  },
  {
   "cell_type": "code",
   "execution_count": null,
   "id": "59639310",
   "metadata": {},
   "outputs": [],
   "source": []
  },
  {
   "cell_type": "code",
   "execution_count": 28,
   "id": "02474c4d",
   "metadata": {},
   "outputs": [],
   "source": [
    "if Eqn_type == 'Burgers' and burgers_t==2:\n",
    "    for i in range(1024):\n",
    "        Data_i0 = Data_a[i:i+1,:].unsqueeze(-1)\n",
    "        Data_i1 = Data_u[i:i+1,:].unsqueeze(-1)\n",
    "        if i == 0:\n",
    "            Data = torch.cat([Data_i0,Data_i1],-1)\n",
    "        else:\n",
    "            Data = torch.cat([Data,torch.cat([Data_i0,Data_i1],-1)])\n",
    "        \n",
    "    \n",
    "elif Eqn_type == 'Burgers' and burgers_t>2:\n",
    "    pass\n",
    "else:\n",
    "    Data = Data_u[:10,:,:,:]"
   ]
  },
  {
   "cell_type": "code",
   "execution_count": 29,
   "id": "e5ae912d",
   "metadata": {},
   "outputs": [
    {
     "data": {
      "text/plain": [
       "torch.Size([200, 1024, 400])"
      ]
     },
     "execution_count": 29,
     "metadata": {},
     "output_type": "execute_result"
    }
   ],
   "source": [
    "Data.shape"
   ]
  },
  {
   "cell_type": "code",
   "execution_count": null,
   "id": "3d4ea0ac",
   "metadata": {},
   "outputs": [],
   "source": []
  },
  {
   "cell_type": "code",
   "execution_count": null,
   "id": "0f5705c7",
   "metadata": {},
   "outputs": [],
   "source": []
  },
  {
   "cell_type": "code",
   "execution_count": null,
   "id": "c2351369",
   "metadata": {},
   "outputs": [],
   "source": []
  },
  {
   "cell_type": "code",
   "execution_count": 30,
   "id": "fe5953e7",
   "metadata": {},
   "outputs": [],
   "source": [
    "Data = Data.to(device)"
   ]
  },
  {
   "cell_type": "code",
   "execution_count": 31,
   "id": "f571fe71",
   "metadata": {
    "scrolled": true
   },
   "outputs": [],
   "source": [
    "Data = Data.float()"
   ]
  },
  {
   "cell_type": "code",
   "execution_count": null,
   "id": "5d8d7bc5",
   "metadata": {},
   "outputs": [],
   "source": []
  },
  {
   "cell_type": "code",
   "execution_count": 32,
   "id": "5e03eca7",
   "metadata": {},
   "outputs": [],
   "source": [
    "ids = np.tile(np.linspace(0,Data.shape[1]-1,num=n_points, dtype=np.int64),(Data.shape[1],1))"
   ]
  },
  {
   "cell_type": "code",
   "execution_count": 33,
   "id": "6c1d231a",
   "metadata": {
    "scrolled": true
   },
   "outputs": [
    {
     "data": {
      "text/plain": [
       "array([   0,    2,    4,    6,    8,   10,   12,   14,   16,   18,   20,\n",
       "         22,   24,   26,   28,   30,   32,   34,   36,   38,   40,   42,\n",
       "         44,   46,   48,   50,   52,   54,   56,   58,   60,   62,   64,\n",
       "         66,   68,   70,   72,   74,   76,   78,   80,   82,   84,   86,\n",
       "         88,   90,   92,   94,   96,   98,  100,  102,  104,  106,  108,\n",
       "        110,  112,  114,  116,  118,  120,  122,  124,  126,  128,  130,\n",
       "        132,  134,  136,  138,  140,  142,  144,  146,  148,  150,  152,\n",
       "        154,  156,  158,  160,  162,  164,  166,  168,  170,  172,  174,\n",
       "        176,  178,  180,  182,  184,  186,  188,  190,  192,  194,  196,\n",
       "        198,  200,  202,  204,  206,  208,  210,  212,  214,  216,  218,\n",
       "        220,  222,  224,  226,  228,  230,  232,  234,  236,  238,  240,\n",
       "        242,  244,  246,  248,  250,  252,  254,  256,  258,  260,  262,\n",
       "        264,  266,  268,  270,  272,  274,  276,  278,  280,  282,  284,\n",
       "        286,  288,  290,  292,  294,  296,  298,  300,  302,  304,  306,\n",
       "        308,  310,  312,  314,  316,  318,  320,  322,  324,  326,  328,\n",
       "        330,  332,  334,  336,  338,  340,  342,  344,  346,  348,  350,\n",
       "        352,  354,  356,  358,  360,  362,  364,  366,  368,  370,  372,\n",
       "        374,  376,  378,  380,  382,  384,  386,  388,  390,  392,  394,\n",
       "        396,  398,  400,  402,  404,  406,  408,  410,  412,  414,  416,\n",
       "        418,  420,  422,  424,  426,  428,  430,  432,  434,  436,  438,\n",
       "        440,  442,  444,  446,  448,  450,  452,  454,  456,  458,  460,\n",
       "        462,  464,  466,  468,  470,  472,  474,  476,  478,  480,  482,\n",
       "        484,  486,  488,  490,  492,  494,  496,  498,  500,  502,  504,\n",
       "        506,  508,  510,  512,  514,  516,  518,  520,  522,  524,  526,\n",
       "        528,  530,  532,  534,  536,  538,  540,  542,  544,  546,  548,\n",
       "        550,  552,  554,  556,  558,  560,  562,  564,  566,  568,  570,\n",
       "        572,  574,  576,  578,  580,  582,  584,  586,  588,  590,  592,\n",
       "        594,  596,  598,  600,  602,  604,  606,  608,  610,  612,  614,\n",
       "        616,  618,  620,  622,  624,  626,  628,  630,  632,  634,  636,\n",
       "        638,  640,  642,  644,  646,  648,  650,  652,  654,  656,  658,\n",
       "        660,  662,  664,  666,  668,  670,  672,  674,  676,  678,  680,\n",
       "        682,  684,  686,  688,  690,  692,  694,  696,  698,  700,  702,\n",
       "        704,  706,  708,  710,  712,  714,  716,  718,  720,  722,  724,\n",
       "        726,  728,  730,  732,  734,  736,  738,  740,  742,  744,  746,\n",
       "        748,  750,  752,  754,  756,  758,  760,  762,  764,  766,  768,\n",
       "        770,  772,  774,  776,  778,  780,  782,  784,  786,  788,  790,\n",
       "        792,  794,  796,  798,  800,  802,  804,  806,  808,  810,  812,\n",
       "        814,  816,  818,  820,  822,  824,  826,  828,  830,  832,  834,\n",
       "        836,  838,  840,  842,  844,  846,  848,  850,  852,  854,  856,\n",
       "        858,  860,  862,  864,  866,  868,  870,  872,  874,  876,  878,\n",
       "        880,  882,  884,  886,  888,  890,  892,  894,  896,  898,  900,\n",
       "        902,  904,  906,  908,  910,  912,  914,  916,  918,  920,  922,\n",
       "        924,  926,  928,  930,  932,  934,  936,  938,  940,  942,  944,\n",
       "        946,  948,  950,  952,  954,  956,  958,  960,  962,  964,  966,\n",
       "        968,  970,  972,  974,  976,  978,  980,  982,  984,  986,  988,\n",
       "        990,  992,  994,  996,  998, 1000, 1002, 1004, 1006, 1008, 1010,\n",
       "       1012, 1014, 1016, 1018, 1020, 1023])"
      ]
     },
     "execution_count": 33,
     "metadata": {},
     "output_type": "execute_result"
    }
   ],
   "source": [
    "ids[0]"
   ]
  },
  {
   "cell_type": "code",
   "execution_count": 34,
   "id": "88545725",
   "metadata": {},
   "outputs": [
    {
     "name": "stdout",
     "output_type": "stream",
     "text": [
      "[  1   9  17  25  33  41  49  57  65  74  82  90  98 106 114 122 130 139\n",
      " 147 155 163 171 179 187 195 204 212 220 228 236 244 252 260 269 277 285\n",
      " 293 301 309 317 325 334 342 350 358 366 374 382 390 399]\n"
     ]
    }
   ],
   "source": [
    "'''\n",
    "IDs of the time stamps used for training, or testing. Testing will use twice as many stamps,\n",
    "since the task is interpolation.\n",
    "'''\n",
    "if args.mode=='train': \n",
    "    if burgers_t>2:\n",
    "        t_ids = np.tile(np.linspace(1,Data.shape[-1]-1,num=burgers_t, dtype=np.int64),(Data.shape[1],1))\n",
    "        print(t_ids[0])\n",
    "else:\n",
    "    t_ids = np.tile(np.linspace(1,int(Data.shape[-1])-1,num=2*burgers_t, dtype=np.int64),(Data.shape[1],1))\n",
    "    print(t_ids[0])"
   ]
  },
  {
   "cell_type": "code",
   "execution_count": 35,
   "id": "f806ae26",
   "metadata": {},
   "outputs": [],
   "source": [
    "Data = Data[:,ids[0],:]"
   ]
  },
  {
   "cell_type": "code",
   "execution_count": 36,
   "id": "da81cb84",
   "metadata": {},
   "outputs": [
    {
     "data": {
      "text/plain": [
       "torch.Size([200, 512, 400])"
      ]
     },
     "execution_count": 36,
     "metadata": {},
     "output_type": "execute_result"
    }
   ],
   "source": [
    "Data.shape"
   ]
  },
  {
   "cell_type": "code",
   "execution_count": 37,
   "id": "4c5a82ea",
   "metadata": {},
   "outputs": [],
   "source": [
    "if burgers_t>2:\n",
    "    Data = Data[:,:,t_ids[0]]"
   ]
  },
  {
   "cell_type": "code",
   "execution_count": 38,
   "id": "874cb67e",
   "metadata": {},
   "outputs": [
    {
     "data": {
      "text/plain": [
       "torch.Size([200, 512, 50])"
      ]
     },
     "execution_count": 38,
     "metadata": {},
     "output_type": "execute_result"
    }
   ],
   "source": [
    "Data.shape"
   ]
  },
  {
   "cell_type": "code",
   "execution_count": 39,
   "id": "b3681c6b",
   "metadata": {},
   "outputs": [],
   "source": [
    "'''\n",
    "These are the number of points used by the model internally to produce an output.\n",
    "This is independent of the number of points that the model outputs, since it is\n",
    "used only to sample points for the integrals. The output will be interpolated and\n",
    "will give the prefixed number of points, which is smaller for training (since this\n",
    "is an interpolation task).\n",
    "'''\n",
    "if burgers_t>2:\n",
    "    args.time_points=2*burgers_t"
   ]
  },
  {
   "cell_type": "code",
   "execution_count": 40,
   "id": "ebb6b6fa",
   "metadata": {},
   "outputs": [
    {
     "data": {
      "text/plain": [
       "torch.Size([200, 512, 50])"
      ]
     },
     "execution_count": 40,
     "metadata": {},
     "output_type": "execute_result"
    }
   ],
   "source": [
    "Data.shape"
   ]
  },
  {
   "cell_type": "code",
   "execution_count": 41,
   "id": "7e644861",
   "metadata": {},
   "outputs": [
    {
     "name": "stdout",
     "output_type": "stream",
     "text": [
      "tensor([0.0025, 0.0226, 0.0426, 0.0627, 0.0827, 0.1028, 0.1228, 0.1429, 0.1629,\n",
      "        0.1855, 0.2055, 0.2256, 0.2456, 0.2657, 0.2857, 0.3058, 0.3258, 0.3484,\n",
      "        0.3684, 0.3885, 0.4085, 0.4286, 0.4486, 0.4687, 0.4887, 0.5113, 0.5313,\n",
      "        0.5514, 0.5714, 0.5915, 0.6115, 0.6316, 0.6516, 0.6742, 0.6942, 0.7143,\n",
      "        0.7343, 0.7544, 0.7744, 0.7945, 0.8145, 0.8371, 0.8571, 0.8772, 0.8972,\n",
      "        0.9173, 0.9373, 0.9574, 0.9774, 1.0000])\n"
     ]
    }
   ],
   "source": [
    "ts_integration = torch.linspace(0,1,400)[t_ids[0]]\n",
    "print(ts_integration)\n",
    "args.ts_integration = ts_integration"
   ]
  },
  {
   "cell_type": "code",
   "execution_count": null,
   "id": "365de53e",
   "metadata": {},
   "outputs": [],
   "source": []
  },
  {
   "cell_type": "code",
   "execution_count": null,
   "id": "c2faae45",
   "metadata": {},
   "outputs": [],
   "source": []
  },
  {
   "cell_type": "code",
   "execution_count": null,
   "id": "414330eb",
   "metadata": {},
   "outputs": [],
   "source": []
  },
  {
   "cell_type": "code",
   "execution_count": 42,
   "id": "fd86aa44",
   "metadata": {},
   "outputs": [
    {
     "name": "stdout",
     "output_type": "stream",
     "text": [
      "Data.shape:  torch.Size([200, 512, 50])\n",
      "\n",
      "len(Train_Data_indices):  512\n",
      "Train_Data_indices:  [0, 1, 2, 3, 4, 5, 6, 7, 8, 9, 10, 11, 12, 13, 14, 15, 16, 17, 18, 19, 20, 21, 22, 23, 24, 25, 26, 27, 28, 29, 30, 31, 32, 33, 34, 35, 36, 37, 38, 39, 40, 41, 42, 43, 44, 45, 46, 47, 48, 49, 50, 51, 52, 53, 54, 55, 56, 57, 58, 59, 60, 61, 62, 63, 64, 65, 66, 67, 68, 69, 70, 71, 72, 73, 74, 75, 76, 77, 78, 79, 80, 81, 82, 83, 84, 85, 86, 87, 88, 89, 90, 91, 92, 93, 94, 95, 96, 97, 98, 99, 100, 101, 102, 103, 104, 105, 106, 107, 108, 109, 110, 111, 112, 113, 114, 115, 116, 117, 118, 119, 120, 121, 122, 123, 124, 125, 126, 127, 128, 129, 130, 131, 132, 133, 134, 135, 136, 137, 138, 139, 140, 141, 142, 143, 144, 145, 146, 147, 148, 149, 150, 151, 152, 153, 154, 155, 156, 157, 158, 159, 160, 161, 162, 163, 164, 165, 166, 167, 168, 169, 170, 171, 172, 173, 174, 175, 176, 177, 178, 179, 180, 181, 182, 183, 184, 185, 186, 187, 188, 189, 190, 191, 192, 193, 194, 195, 196, 197, 198, 199, 200, 201, 202, 203, 204, 205, 206, 207, 208, 209, 210, 211, 212, 213, 214, 215, 216, 217, 218, 219, 220, 221, 222, 223, 224, 225, 226, 227, 228, 229, 230, 231, 232, 233, 234, 235, 236, 237, 238, 239, 240, 241, 242, 243, 244, 245, 246, 247, 248, 249, 250, 251, 252, 253, 254, 255, 256, 257, 258, 259, 260, 261, 262, 263, 264, 265, 266, 267, 268, 269, 270, 271, 272, 273, 274, 275, 276, 277, 278, 279, 280, 281, 282, 283, 284, 285, 286, 287, 288, 289, 290, 291, 292, 293, 294, 295, 296, 297, 298, 299, 300, 301, 302, 303, 304, 305, 306, 307, 308, 309, 310, 311, 312, 313, 314, 315, 316, 317, 318, 319, 320, 321, 322, 323, 324, 325, 326, 327, 328, 329, 330, 331, 332, 333, 334, 335, 336, 337, 338, 339, 340, 341, 342, 343, 344, 345, 346, 347, 348, 349, 350, 351, 352, 353, 354, 355, 356, 357, 358, 359, 360, 361, 362, 363, 364, 365, 366, 367, 368, 369, 370, 371, 372, 373, 374, 375, 376, 377, 378, 379, 380, 381, 382, 383, 384, 385, 386, 387, 388, 389, 390, 391, 392, 393, 394, 395, 396, 397, 398, 399, 400, 401, 402, 403, 404, 405, 406, 407, 408, 409, 410, 411, 412, 413, 414, 415, 416, 417, 418, 419, 420, 421, 422, 423, 424, 425, 426, 427, 428, 429, 430, 431, 432, 433, 434, 435, 436, 437, 438, 439, 440, 441, 442, 443, 444, 445, 446, 447, 448, 449, 450, 451, 452, 453, 454, 455, 456, 457, 458, 459, 460, 461, 462, 463, 464, 465, 466, 467, 468, 469, 470, 471, 472, 473, 474, 475, 476, 477, 478, 479, 480, 481, 482, 483, 484, 485, 486, 487, 488, 489, 490, 491, 492, 493, 494, 495, 496, 497, 498, 499, 500, 501, 502, 503, 504, 505, 506, 507, 508, 509, 510, 511]\n",
      "\n",
      "len(Val_Data_indices):  0\n",
      "Val_Data_indices:  []\n"
     ]
    }
   ],
   "source": [
    "'''\n",
    "Initialize data and model.\n",
    "'''\n",
    "n_steps = 5000\n",
    "print('Data.shape: ',Data.shape)\n",
    "\n",
    "Data_splitting_indices = Train_val_split(np.copy(index_np),0)\n",
    "Train_Data_indices = Data_splitting_indices.train_IDs()\n",
    "Val_Data_indices = Data_splitting_indices.val_IDs()\n",
    "print('\\nlen(Train_Data_indices): ',len(Train_Data_indices))\n",
    "print('Train_Data_indices: ',Train_Data_indices)\n",
    "print('\\nlen(Val_Data_indices): ',len(Val_Data_indices))\n",
    "print('Val_Data_indices: ',Val_Data_indices)\n",
    "Dataset = Dynamics_Dataset(Data,times)\n",
    "\n",
    "Dataset_all = Test_Dynamics_Dataset(Data,times)\n",
    "\n",
    "# For the sampler\n",
    "train_sampler = SubsetRandomSampler(Train_Data_indices)\n",
    "valid_sampler = SubsetRandomSampler(Val_Data_indices)\n",
    "    \n",
    "\n",
    "dataloaders = {'train': torch.utils.data.DataLoader(Dataset, sampler=train_sampler, batch_size = args.batch_size, drop_last=True),\n",
    "               'val': torch.utils.data.DataLoader(Dataset, sampler=valid_sampler, batch_size = args.batch_size, drop_last=True),\n",
    "               'test': torch.utils.data.DataLoader(Dataset_all, batch_size = len(np.copy(index_np))),\n",
    "              }\n",
    "\n",
    "model = model_blocks(args.dim+1,\n",
    "                     args.dim_emb,\n",
    "                     args.n_head,\n",
    "                     args.n_blocks,\n",
    "                     args.n_ff,\n",
    "                     args.attention_type,\n",
    "                     args.final_block,\n",
    "                     dropout=0.1)\n",
    "\n",
    "if torch.cuda.is_available():\n",
    "    model = model.cuda()"
   ]
  },
  {
   "cell_type": "code",
   "execution_count": null,
   "id": "40a1fc7e",
   "metadata": {},
   "outputs": [],
   "source": []
  },
  {
   "cell_type": "code",
   "execution_count": 43,
   "id": "4e5471ba",
   "metadata": {},
   "outputs": [],
   "source": [
    "args.range_imshow = np.array([np.quantile(to_np(Data).flatten(), 0.05), np.quantile(to_np(Data).flatten(), 0.95)])"
   ]
  },
  {
   "cell_type": "code",
   "execution_count": 44,
   "id": "14d2cff2",
   "metadata": {},
   "outputs": [
    {
     "data": {
      "text/plain": [
       "array([-0.37127168,  0.36326906])"
      ]
     },
     "execution_count": 44,
     "metadata": {},
     "output_type": "execute_result"
    }
   ],
   "source": [
    "args.range_imshow"
   ]
  },
  {
   "cell_type": "code",
   "execution_count": null,
   "id": "20b7aa27",
   "metadata": {},
   "outputs": [],
   "source": []
  },
  {
   "cell_type": "markdown",
   "id": "45ac67a2",
   "metadata": {},
   "source": [
    "Data.size()"
   ]
  },
  {
   "cell_type": "code",
   "execution_count": 45,
   "id": "8ec9665d",
   "metadata": {},
   "outputs": [],
   "source": [
    "exp_mode = 'Fredholm'"
   ]
  },
  {
   "cell_type": "code",
   "execution_count": 46,
   "id": "b9e4f6e5",
   "metadata": {},
   "outputs": [],
   "source": [
    "#Fredholm mode\n",
    "mask = None"
   ]
  },
  {
   "cell_type": "code",
   "execution_count": 47,
   "id": "06c6954d",
   "metadata": {},
   "outputs": [],
   "source": [
    "#Volterra mode\n",
    "if exp_mode == 'Volterra':\n",
    "    masking_map =  masking_function(lambda x: 0.,lambda x: x,n_batch=1)\n",
    "    mask_times = times\n",
    "    mask = masking_map.create_mask(mask_times)"
   ]
  },
  {
   "cell_type": "code",
   "execution_count": 48,
   "id": "79e30e32",
   "metadata": {},
   "outputs": [
    {
     "name": "stdout",
     "output_type": "stream",
     "text": [
      "None\n"
     ]
    }
   ],
   "source": [
    "print(mask)"
   ]
  },
  {
   "cell_type": "code",
   "execution_count": null,
   "id": "0709fcb6",
   "metadata": {},
   "outputs": [],
   "source": []
  },
  {
   "cell_type": "code",
   "execution_count": 49,
   "id": "9cfd2d4e",
   "metadata": {},
   "outputs": [],
   "source": [
    "args.n_patch = 64"
   ]
  },
  {
   "cell_type": "code",
   "execution_count": null,
   "id": "5fde9a64",
   "metadata": {},
   "outputs": [],
   "source": []
  },
  {
   "cell_type": "code",
   "execution_count": 50,
   "id": "7958efc6",
   "metadata": {},
   "outputs": [],
   "source": [
    "'''\n",
    "Create Encoder for latent space.\n",
    "'''\n",
    "Encoder = kernels.ConvNeuralNet1D(\n",
    "                            1,\n",
    "                            args.dim,\n",
    "                            args.dim,\n",
    "                            hidden_ff=32,\n",
    "                            Data_shape1=n_points,\n",
    "                            n_patch=args.n_patch\n",
    ").to(args.device)"
   ]
  },
  {
   "cell_type": "code",
   "execution_count": 51,
   "id": "d55128ba",
   "metadata": {},
   "outputs": [],
   "source": [
    "args.shapes = Encoder(Data[:4,:,:1].permute(0,2,1)).shape"
   ]
  },
  {
   "cell_type": "code",
   "execution_count": 52,
   "id": "609d405b",
   "metadata": {},
   "outputs": [],
   "source": [
    "args.n_points = args.shapes[-1]"
   ]
  },
  {
   "cell_type": "code",
   "execution_count": null,
   "id": "6e68e452",
   "metadata": {},
   "outputs": [],
   "source": []
  },
  {
   "cell_type": "code",
   "execution_count": null,
   "id": "a37c961d",
   "metadata": {},
   "outputs": [],
   "source": []
  },
  {
   "cell_type": "code",
   "execution_count": 53,
   "id": "aa38b891",
   "metadata": {},
   "outputs": [],
   "source": [
    "class Decoder_NN(nn.Module):\n",
    "    def __init__(self,in_dim,out_dim,shapes,NL=nn.ELU):\n",
    "        super(Decoder_NN, self).__init__()\n",
    "        self.in_dim = in_dim\n",
    "        self.out_dim = out_dim\n",
    "        self.n_layers = len(shapes) - 1\n",
    "        self.shapes = shapes\n",
    "        self.first = nn.Linear(in_dim,shapes[0])\n",
    "        self.layers = nn.ModuleList([nn.Linear(shapes[i],shapes[i+1]) for i in range(self.n_layers)])\n",
    "        self.last = nn.Linear(shapes[-1], out_dim)\n",
    "        self.NL = NL(inplace=True) \n",
    "        \n",
    "    def forward(self, y):\n",
    "        y_in = y.permute(0,2,1,3)\n",
    "        y_in = y_in.flatten(2,3)\n",
    "        y = self.NL(self.first.forward(y_in))\n",
    "        for layer in self.layers:\n",
    "            y = self.NL(layer.forward(y))   \n",
    "        y_out = self.last.forward(y)\n",
    "        y = y_out.permute(0,2,1)\n",
    "\n",
    "        return y"
   ]
  },
  {
   "cell_type": "code",
   "execution_count": 54,
   "id": "7779a679",
   "metadata": {},
   "outputs": [],
   "source": [
    "'''\n",
    "Initialize decoder to go back in original space. \n",
    "'''\n",
    "Decoder = Decoder_NN(args.shapes[-1]*args.dim,n_points,[64,128]).to(args.device)"
   ]
  },
  {
   "cell_type": "code",
   "execution_count": null,
   "id": "6976b47b",
   "metadata": {},
   "outputs": [],
   "source": []
  },
  {
   "cell_type": "code",
   "execution_count": null,
   "id": "4d3e190e",
   "metadata": {},
   "outputs": [],
   "source": []
  },
  {
   "cell_type": "code",
   "execution_count": null,
   "id": "58bad694",
   "metadata": {},
   "outputs": [],
   "source": []
  },
  {
   "cell_type": "code",
   "execution_count": 55,
   "id": "5fb156cc",
   "metadata": {},
   "outputs": [
    {
     "data": {
      "text/plain": [
       "160066"
      ]
     },
     "execution_count": 55,
     "metadata": {},
     "output_type": "execute_result"
    }
   ],
   "source": [
    "kernels.flatten_kernel_parameters(model).shape[0]+kernels.flatten_kernel_parameters(Encoder).shape[0]+kernels.flatten_kernel_parameters(Decoder).shape[0]\n",
    "\n"
   ]
  },
  {
   "cell_type": "code",
   "execution_count": null,
   "id": "3702a60d",
   "metadata": {},
   "outputs": [],
   "source": []
  },
  {
   "cell_type": "code",
   "execution_count": null,
   "id": "71187a88",
   "metadata": {},
   "outputs": [],
   "source": []
  },
  {
   "cell_type": "code",
   "execution_count": 56,
   "id": "07c71c8e",
   "metadata": {},
   "outputs": [],
   "source": [
    "args.epochs=150"
   ]
  },
  {
   "cell_type": "code",
   "execution_count": 57,
   "id": "ca252cf4",
   "metadata": {},
   "outputs": [],
   "source": [
    "args.print_ts=False\n",
    "if args.print_ts is True:\n",
    "    args.freq_print_ts = int(args.epochs/500)*args.plot_freq"
   ]
  },
  {
   "cell_type": "code",
   "execution_count": 58,
   "id": "14d17e59",
   "metadata": {
    "scrolled": true
   },
   "outputs": [
    {
     "name": "stdout",
     "output_type": "stream",
     "text": [
      "Loading  nie/Burgers_test-longT-2/run16/model\n",
      "Running in evaluation mode\n"
     ]
    },
    {
     "name": "stderr",
     "output_type": "stream",
     "text": [
      "  0%|          | 0/7 [00:00<?, ?it/s]/gpfs/gibbs/project/dijk/eaz29/conda_envs/notebook_env/lib/python3.10/site-packages/torch/functional.py:504: UserWarning: torch.meshgrid: in an upcoming release, it will be required to pass the indexing argument. (Triggered internally at ../aten/src/ATen/native/TensorShape.cpp:3483.)\n",
      "  return _VF.meshgrid(tensors, **kwargs)  # type: ignore[attr-defined]\n",
      "/gpfs/gibbs/project/dijk/eaz29/IE_source/Attentional_IE_solver.py:1461: UserWarning: Error increased on iteration 0\n",
      "  warnings.warn(\n",
      "/gpfs/gibbs/project/dijk/eaz29/IE_source/Attentional_IE_solver.py:1461: UserWarning: Error increased on iteration 1\n",
      "  warnings.warn(\n",
      "/gpfs/gibbs/project/dijk/eaz29/IE_source/Attentional_IE_solver.py:1461: UserWarning: Error increased on iteration 2\n",
      "  warnings.warn(\n",
      "/gpfs/gibbs/project/dijk/eaz29/IE_source/Attentional_IE_solver.py:1461: UserWarning: Error increased on iteration 0\n",
      "  warnings.warn(\n",
      "/gpfs/gibbs/project/dijk/eaz29/IE_source/Attentional_IE_solver.py:1461: UserWarning: Error increased on iteration 1\n",
      "  warnings.warn(\n",
      "/gpfs/gibbs/project/dijk/eaz29/IE_source/Attentional_IE_solver.py:1461: UserWarning: Error increased on iteration 2\n",
      "  warnings.warn(\n",
      " 29%|██▊       | 2/7 [00:00<00:00, 13.69it/s]"
     ]
    },
    {
     "name": "stdout",
     "output_type": "stream",
     "text": [
      "R2: 0.9756565269022685\n",
      "MSE: 0.002946391\n",
      "R2: 0.9765709360209462\n",
      "MSE: 0.0023432162\n"
     ]
    },
    {
     "name": "stderr",
     "output_type": "stream",
     "text": [
      "/gpfs/gibbs/project/dijk/eaz29/IE_source/Attentional_IE_solver.py:1461: UserWarning: Error increased on iteration 0\n",
      "  warnings.warn(\n",
      "/gpfs/gibbs/project/dijk/eaz29/IE_source/Attentional_IE_solver.py:1461: UserWarning: Error increased on iteration 1\n",
      "  warnings.warn(\n",
      "/gpfs/gibbs/project/dijk/eaz29/IE_source/Attentional_IE_solver.py:1461: UserWarning: Error increased on iteration 2\n",
      "  warnings.warn(\n",
      "/gpfs/gibbs/project/dijk/eaz29/IE_source/Attentional_IE_solver.py:1461: UserWarning: Error increased on iteration 0\n",
      "  warnings.warn(\n",
      "/gpfs/gibbs/project/dijk/eaz29/IE_source/Attentional_IE_solver.py:1461: UserWarning: Error increased on iteration 1\n",
      "  warnings.warn(\n",
      "/gpfs/gibbs/project/dijk/eaz29/IE_source/Attentional_IE_solver.py:1461: UserWarning: Error increased on iteration 2\n",
      "  warnings.warn(\n",
      " 57%|█████▋    | 4/7 [00:00<00:00, 14.68it/s]"
     ]
    },
    {
     "name": "stdout",
     "output_type": "stream",
     "text": [
      "R2: 0.9784393150348516\n",
      "MSE: 0.001979304\n",
      "R2: 0.977019557925607\n",
      "MSE: 0.0020371974\n"
     ]
    },
    {
     "name": "stderr",
     "output_type": "stream",
     "text": [
      "/gpfs/gibbs/project/dijk/eaz29/IE_source/Attentional_IE_solver.py:1461: UserWarning: Error increased on iteration 0\n",
      "  warnings.warn(\n",
      "/gpfs/gibbs/project/dijk/eaz29/IE_source/Attentional_IE_solver.py:1461: UserWarning: Error increased on iteration 1\n",
      "  warnings.warn(\n",
      "/gpfs/gibbs/project/dijk/eaz29/IE_source/Attentional_IE_solver.py:1461: UserWarning: Error increased on iteration 2\n",
      "  warnings.warn(\n",
      "/gpfs/gibbs/project/dijk/eaz29/IE_source/Attentional_IE_solver.py:1461: UserWarning: Error increased on iteration 0\n",
      "  warnings.warn(\n",
      "/gpfs/gibbs/project/dijk/eaz29/IE_source/Attentional_IE_solver.py:1461: UserWarning: Error increased on iteration 1\n",
      "  warnings.warn(\n",
      "/gpfs/gibbs/project/dijk/eaz29/IE_source/Attentional_IE_solver.py:1461: UserWarning: Error increased on iteration 2\n",
      "  warnings.warn(\n",
      " 86%|████████▌ | 6/7 [00:00<00:00, 15.15it/s]"
     ]
    },
    {
     "name": "stdout",
     "output_type": "stream",
     "text": [
      "R2: 0.9817691962718922\n",
      "MSE: 0.0019572082\n",
      "R2: 0.9765829718355452\n",
      "MSE: 0.0023112858\n"
     ]
    },
    {
     "name": "stderr",
     "output_type": "stream",
     "text": [
      "/gpfs/gibbs/project/dijk/eaz29/IE_source/Attentional_IE_solver.py:1461: UserWarning: Error increased on iteration 0\n",
      "  warnings.warn(\n",
      "/gpfs/gibbs/project/dijk/eaz29/IE_source/Attentional_IE_solver.py:1461: UserWarning: Error increased on iteration 1\n",
      "  warnings.warn(\n",
      "/gpfs/gibbs/project/dijk/eaz29/IE_source/Attentional_IE_solver.py:1461: UserWarning: Error increased on iteration 2\n",
      "  warnings.warn(\n",
      "100%|██████████| 7/7 [00:00<00:00, 15.71it/s]"
     ]
    },
    {
     "name": "stdout",
     "output_type": "stream",
     "text": [
      "R2: 0.9790966803000264\n",
      "MSE: 0.0022748688\n",
      "Average R2: 0.9778764548987339\n",
      "Average MSE: 0.002264210189293538\n"
     ]
    },
    {
     "name": "stderr",
     "output_type": "stream",
     "text": [
      "\n"
     ]
    }
   ],
   "source": [
    "'''\n",
    "Run experiment here. Either for training, or test (depending on args.mode above).\n",
    "'''\n",
    "Full_experiment_AttentionalIE_PDE(model,Encoder,Decoder,Data, times, index_np, mask, times, args, extrapolation_points=None)"
   ]
  },
  {
   "cell_type": "code",
   "execution_count": null,
   "id": "dcf6687f",
   "metadata": {},
   "outputs": [],
   "source": []
  },
  {
   "cell_type": "code",
   "execution_count": null,
   "id": "5410f754",
   "metadata": {},
   "outputs": [],
   "source": []
  }
 ],
 "metadata": {
  "kernelspec": {
   "display_name": "Python 3",
   "language": "python",
   "name": "python3"
  },
  "language_info": {
   "codemirror_mode": {
    "name": "ipython",
    "version": 3
   },
   "file_extension": ".py",
   "mimetype": "text/x-python",
   "name": "python",
   "nbconvert_exporter": "python",
   "pygments_lexer": "ipython3",
   "version": "3.8.8"
  },
  "toc": {
   "base_numbering": 1,
   "nav_menu": {},
   "number_sections": true,
   "sideBar": true,
   "skip_h1_title": false,
   "title_cell": "Table of Contents",
   "title_sidebar": "Contents",
   "toc_cell": false,
   "toc_position": {},
   "toc_section_display": true,
   "toc_window_display": false
  }
 },
 "nbformat": 4,
 "nbformat_minor": 5
}
