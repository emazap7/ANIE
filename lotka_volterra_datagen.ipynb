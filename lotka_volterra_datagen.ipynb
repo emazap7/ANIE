{
 "cells": [
  {
   "cell_type": "code",
   "execution_count": null,
   "id": "df2f6e77-9466-4370-bc2d-9e8e23334d5a",
   "metadata": {},
   "outputs": [],
   "source": [
    "import numpy as np\n",
    "from scipy import integrate\n",
    "\n",
    "a_samples = np.random.uniform(low=0.5, high=1.5, size=100)\n",
    "b_samples = np.random.uniform(low=0.5, high=1.5, size=100)\n",
    "c_samples = np.random.uniform(low=0.5, high=2.5, size=100)\n",
    "d_samples = np.random.uniform(low=0.25, high=1.25, size=100)\n",
    "\n",
    "def dX_dt(X, t, a, b, c, d):\n",
    "    \"\"\" Return the growth rate of two populations over time \"\"\"\n",
    "    return np.array([ a*X[0] -   b*X[0]*X[1] ,\n",
    "                  -c*X[1] + d*b*X[0]*X[1] ])\n",
    "    \n",
    "def data_generation(a_samples,b_samples,c_samples,d_samples):\n",
    "    Data = []\n",
    "    for i in range(100):\n",
    "        a = a_samples[i]\n",
    "        b = b_samples[i]\n",
    "        c = c_samples[i]\n",
    "        d = d_samples[i]\n",
    "    \n",
    "        t = np.linspace(0, 15,  100)       # time\n",
    "        X0 = np.array([10, 5])             # initials conditions:\n",
    "                                        #10 rabbits and 5 foxes\n",
    "    \n",
    "        X, _ = integrate.odeint(dX_dt, X0, t, args=(a, b, c, d), full_output=True)\n",
    "        Data.append(X)\n",
    "\n",
    "    return np.array(Data)\n",
    "\n",
    "Data = data_generation(a_samples, b_samples, c_samples, d_samples)\n",
    "np.save('lotka_volterra_dataset.npy', Data)"
   ]
  },
  {
   "cell_type": "code",
   "execution_count": null,
   "id": "a8738b63-ae26-4100-8f40-cbc2b8d31668",
   "metadata": {},
   "outputs": [],
   "source": []
  }
 ],
 "metadata": {
  "kernelspec": {
   "display_name": "Python 3",
   "language": "python",
   "name": "python3"
  },
  "language_info": {
   "codemirror_mode": {
    "name": "ipython",
    "version": 3
   },
   "file_extension": ".py",
   "mimetype": "text/x-python",
   "name": "python",
   "nbconvert_exporter": "python",
   "pygments_lexer": "ipython3",
   "version": "3.8.8"
  }
 },
 "nbformat": 4,
 "nbformat_minor": 5
}
