{
 "cells": [
  {
   "cell_type": "code",
   "execution_count": null,
   "id": "d4a0dfe1-bae1-4b2e-8b3a-b6819aadabdc",
   "metadata": {},
   "outputs": [],
   "source": [
    "from numpy import *\n",
    "import numpy as np\n",
    "from scipy.integrate import odeint\n",
    "\n",
    "# Definition of parameters\n",
    "init_x = np.random.uniform(low=0.0, high=0.5, size=100)\n",
    "init_y  = np.random.uniform(low=0.0, high=0.5, size=100)\n",
    "init_z  = np.random.uniform(low=0.0, high=0.5, size=100)\n",
    "\n",
    "# define the lorenz system\n",
    "# x, y, and z make up the system state, t is time, \n",
    "#and sigma, rho, beta are the system parameters\n",
    "def lorenz_system(current_state, t):\n",
    "    \n",
    "    # positions of x, y, z in space at the current time point\n",
    "    x, y, z = current_state\n",
    "    \n",
    "    # define the 3 ordinary differential equations \n",
    "    # known as the lorenz equations\n",
    "    dx_dt = sigma * (y - x)\n",
    "    dy_dt = x * (rho - z) - y\n",
    "    dz_dt = x * y - beta * z\n",
    "    \n",
    "    # return a list of the equations that describe the system\n",
    "    return [dx_dt, dy_dt, dz_dt]\n",
    "\n",
    "Data = []\n",
    "for i in range(100):\n",
    "    initial_state = [init_x[i], init_y[i], init_z[i]]\n",
    "    # define the initial system state (aka x, y, z \n",
    "    #positions in space)\n",
    "\n",
    "    # define the system parameters sigma, rho, and beta\n",
    "    sigma = 10.\n",
    "    rho   = 28.\n",
    "    beta  = 8./3.\n",
    "\n",
    "    # define the time points to solve for, \n",
    "    #evenly spaced between the start and end times\n",
    "    start_time = 0\n",
    "    end_time = 100\n",
    "    time_points = np.linspace(start_time, end_time, end_time*1)\n",
    "    xyz = odeint(lorenz_system, initial_state, time_points)\n",
    "    Data.append(xyz)\n",
    "    \n",
    "Data = np.array(Data)\n",
    "np.save('lorenz_dataset.npy', Data)"
   ]
  },
  {
   "cell_type": "code",
   "execution_count": null,
   "id": "c8d8d019-f634-4aca-8192-c2e0602fa783",
   "metadata": {},
   "outputs": [],
   "source": []
  }
 ],
 "metadata": {
  "kernelspec": {
   "display_name": "Python 3",
   "language": "python",
   "name": "python3"
  },
  "language_info": {
   "codemirror_mode": {
    "name": "ipython",
    "version": 3
   },
   "file_extension": ".py",
   "mimetype": "text/x-python",
   "name": "python",
   "nbconvert_exporter": "python",
   "pygments_lexer": "ipython3",
   "version": "3.8.8"
  }
 },
 "nbformat": 4,
 "nbformat_minor": 5
}
